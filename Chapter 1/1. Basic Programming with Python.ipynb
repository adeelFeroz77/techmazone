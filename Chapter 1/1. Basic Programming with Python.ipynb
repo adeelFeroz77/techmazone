{
 "cells": [
  {
   "cell_type": "markdown",
   "id": "463eb36f",
   "metadata": {},
   "source": [
    "# 1st Class\n",
    "    *Integer Values, float, String\n",
    "    *print(), type()\n",
    "    * Arithmetic operators: +,-,*,/,//,%,**)"
   ]
  },
  {
   "cell_type": "markdown",
   "id": "2bc041a4",
   "metadata": {},
   "source": [
    "# Integer\n",
    "    *1,2,3,5\n",
    "# Float\n",
    "    *4.2,2.2,65.2\n",
    "    \n",
    "# String\n",
    "    * \"adil.feroz.7@gmail.com\", \"ADeel\""
   ]
  },
  {
   "cell_type": "code",
   "execution_count": 17,
   "id": "37b3d56f",
   "metadata": {},
   "outputs": [
    {
     "name": "stdout",
     "output_type": "stream",
     "text": [
      "5' 9\"\n"
     ]
    }
   ],
   "source": [
    "print(\"5' 9\\\"\")"
   ]
  },
  {
   "cell_type": "code",
   "execution_count": 20,
   "id": "355b89dc",
   "metadata": {},
   "outputs": [],
   "source": [
    "#PEMDAS Paranthesis, Exponents, Multiplication, Division, Addition, Subtraction"
   ]
  },
  {
   "cell_type": "code",
   "execution_count": null,
   "id": "74545529",
   "metadata": {},
   "outputs": [],
   "source": []
  },
  {
   "cell_type": "code",
   "execution_count": null,
   "id": "ed7a8e44",
   "metadata": {},
   "outputs": [],
   "source": []
  }
 ],
 "metadata": {
  "kernelspec": {
   "display_name": "Python 3 (ipykernel)",
   "language": "python",
   "name": "python3"
  },
  "language_info": {
   "codemirror_mode": {
    "name": "ipython",
    "version": 3
   },
   "file_extension": ".py",
   "mimetype": "text/x-python",
   "name": "python",
   "nbconvert_exporter": "python",
   "pygments_lexer": "ipython3",
   "version": "3.9.7"
  }
 },
 "nbformat": 4,
 "nbformat_minor": 5
}
