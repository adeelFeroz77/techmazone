{
 "cells": [
  {
   "cell_type": "markdown",
   "id": "28ef1098",
   "metadata": {},
   "source": [
    "# Functions \n",
    "    * Built in functions like print, len, str ,int, float , type\n",
    "    * Funtion declartaion syntax:\n",
    "        def function_name():\n",
    "            statement\n",
    "            return 0"
   ]
  },
  {
   "cell_type": "code",
   "execution_count": 1,
   "id": "cb3c658e",
   "metadata": {},
   "outputs": [],
   "source": [
    "#Decalaring a function\n",
    "\n",
    "def add(x,y): #Parameters\n",
    "    addition = x+y\n",
    "    return addition"
   ]
  },
  {
   "cell_type": "code",
   "execution_count": 2,
   "id": "e9407a5c",
   "metadata": {},
   "outputs": [
    {
     "name": "stdout",
     "output_type": "stream",
     "text": [
      "3\n"
     ]
    }
   ],
   "source": [
    "print(add(1,2)) #positional args"
   ]
  },
  {
   "cell_type": "code",
   "execution_count": 9,
   "id": "8768cc51",
   "metadata": {},
   "outputs": [],
   "source": [
    "def sqr(x):\n",
    "    return x*x"
   ]
  },
  {
   "cell_type": "code",
   "execution_count": 10,
   "id": "0b43a165",
   "metadata": {},
   "outputs": [
    {
     "data": {
      "text/plain": [
       "25"
      ]
     },
     "execution_count": 10,
     "metadata": {},
     "output_type": "execute_result"
    }
   ],
   "source": [
    "sqr(5)"
   ]
  },
  {
   "cell_type": "code",
   "execution_count": 12,
   "id": "41489530",
   "metadata": {},
   "outputs": [
    {
     "data": {
      "text/plain": [
       "15"
      ]
     },
     "execution_count": 12,
     "metadata": {},
     "output_type": "execute_result"
    }
   ],
   "source": [
    "add(y=10, x=5) #Keyword Args"
   ]
  },
  {
   "cell_type": "code",
   "execution_count": 15,
   "id": "295ae173",
   "metadata": {},
   "outputs": [],
   "source": [
    "def test(a,b,c):\n",
    "    return a-c,a+b"
   ]
  },
  {
   "cell_type": "code",
   "execution_count": 16,
   "id": "d2d39bdd",
   "metadata": {},
   "outputs": [
    {
     "data": {
      "text/plain": [
       "(-4, 4)"
      ]
     },
     "execution_count": 16,
     "metadata": {},
     "output_type": "execute_result"
    }
   ],
   "source": [
    "test(2,c=6,b=2) #mix args (first positional args then keyword args)"
   ]
  },
  {
   "cell_type": "code",
   "execution_count": 21,
   "id": "d7f887d0",
   "metadata": {},
   "outputs": [],
   "source": [
    "def tax(salary, tax_rate = 0.05): #default Arguments\n",
    "    return salary*tax_rate"
   ]
  },
  {
   "cell_type": "code",
   "execution_count": 22,
   "id": "96727215",
   "metadata": {},
   "outputs": [
    {
     "data": {
      "text/plain": [
       "1250.0"
      ]
     },
     "execution_count": 22,
     "metadata": {},
     "output_type": "execute_result"
    }
   ],
   "source": [
    "tax(25000)"
   ]
  },
  {
   "cell_type": "code",
   "execution_count": 23,
   "id": "20cda3cf",
   "metadata": {},
   "outputs": [
    {
     "data": {
      "text/plain": [
       "12000.0"
      ]
     },
     "execution_count": 23,
     "metadata": {},
     "output_type": "execute_result"
    }
   ],
   "source": [
    "tax(100000,0.12)"
   ]
  },
  {
   "cell_type": "code",
   "execution_count": null,
   "id": "f553b146",
   "metadata": {},
   "outputs": [],
   "source": []
  }
 ],
 "metadata": {
  "kernelspec": {
   "display_name": "Python 3 (ipykernel)",
   "language": "python",
   "name": "python3"
  },
  "language_info": {
   "codemirror_mode": {
    "name": "ipython",
    "version": 3
   },
   "file_extension": ".py",
   "mimetype": "text/x-python",
   "name": "python",
   "nbconvert_exporter": "python",
   "pygments_lexer": "ipython3",
   "version": "3.9.7"
  }
 },
 "nbformat": 4,
 "nbformat_minor": 5
}
