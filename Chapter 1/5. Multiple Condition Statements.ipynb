{
 "cells": [
  {
   "cell_type": "code",
   "execution_count": 17,
   "id": "8ae1e4c1",
   "metadata": {},
   "outputs": [
    {
     "name": "stdout",
     "output_type": "stream",
     "text": [
      "404 not found\n"
     ]
    }
   ],
   "source": [
    "age = -95\n",
    "if 0<age<=20:\n",
    "    print(\"teenage\")\n",
    "elif 20<age<=50:\n",
    "    print(\"Adults\")\n",
    "elif 50<age<=100:\n",
    "    print(\"Senior Citizen\")\n",
    "else:\n",
    "    print(\"404 not found\")"
   ]
  },
  {
   "cell_type": "markdown",
   "id": "62354885",
   "metadata": {},
   "source": [
    "    *Nominal Data\n",
    "    Ordinal Data\n",
    "    "
   ]
  }
 ],
 "metadata": {
  "kernelspec": {
   "display_name": "Python 3 (ipykernel)",
   "language": "python",
   "name": "python3"
  },
  "language_info": {
   "codemirror_mode": {
    "name": "ipython",
    "version": 3
   },
   "file_extension": ".py",
   "mimetype": "text/x-python",
   "name": "python",
   "nbconvert_exporter": "python",
   "pygments_lexer": "ipython3",
   "version": "3.9.7"
  }
 },
 "nbformat": 4,
 "nbformat_minor": 5
}
