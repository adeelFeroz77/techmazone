{
 "cells": [
  {
   "cell_type": "code",
   "execution_count": 1,
   "id": "1096a2f1",
   "metadata": {},
   "outputs": [],
   "source": [
    "name = \"adeel\"\n",
    "age = 20\n",
    "salary = -5000.00"
   ]
  },
  {
   "cell_type": "code",
   "execution_count": 5,
   "id": "547967f2",
   "metadata": {},
   "outputs": [
    {
     "name": "stdout",
     "output_type": "stream",
     "text": [
      "adeel 20 -5000.0\n"
     ]
    }
   ],
   "source": [
    "print(name,age,salary)"
   ]
  },
  {
   "cell_type": "code",
   "execution_count": 23,
   "id": "a0a6bbd1",
   "metadata": {},
   "outputs": [],
   "source": [
    "personList = [name,age,salary]"
   ]
  },
  {
   "cell_type": "code",
   "execution_count": 24,
   "id": "75b6b536",
   "metadata": {},
   "outputs": [
    {
     "data": {
      "text/plain": [
       "-5000.0"
      ]
     },
     "execution_count": 24,
     "metadata": {},
     "output_type": "execute_result"
    }
   ],
   "source": [
    "personList[-1]"
   ]
  },
  {
   "cell_type": "code",
   "execution_count": 47,
   "id": "7ffff98a",
   "metadata": {},
   "outputs": [],
   "source": [
    "person1 = [\"Saleh\",20,2000.0]\n",
    "person2 = [\"ADeel\",20,2000.0]\n",
    "person3 = [\"Osama\",53,15000.0]\n",
    "person4 = [\"dania\",18651.0]\n",
    "person5 = [\"Fahad\",23,45600.00]"
   ]
  },
  {
   "cell_type": "code",
   "execution_count": 48,
   "id": "b1c6808b",
   "metadata": {},
   "outputs": [],
   "source": [
    "person1.append('M')\n",
    "person2.append('M')\n",
    "person3.append('M')\n",
    "person4.append('F')\n",
    "person5.append('M')"
   ]
  },
  {
   "cell_type": "code",
   "execution_count": 49,
   "id": "bcd75474",
   "metadata": {},
   "outputs": [
    {
     "data": {
      "text/plain": [
       "['Saleh', 20, 2000.0, 'M']"
      ]
     },
     "execution_count": 49,
     "metadata": {},
     "output_type": "execute_result"
    }
   ],
   "source": [
    "person1"
   ]
  },
  {
   "cell_type": "code",
   "execution_count": 50,
   "id": "881826b6",
   "metadata": {},
   "outputs": [
    {
     "data": {
      "text/plain": [
       "['Dania Khan', 18651.0, 'F']"
      ]
     },
     "execution_count": 50,
     "metadata": {},
     "output_type": "execute_result"
    }
   ],
   "source": [
    "person4[0] = \"Dania Khan\"\n",
    "person4"
   ]
  },
  {
   "cell_type": "code",
   "execution_count": 51,
   "id": "55e77d30",
   "metadata": {},
   "outputs": [],
   "source": [
    "Celebs = [person1,person4,person5]"
   ]
  },
  {
   "cell_type": "code",
   "execution_count": 52,
   "id": "767f8615",
   "metadata": {},
   "outputs": [
    {
     "data": {
      "text/plain": [
       "[['Saleh', 20, 2000.0, 'M'],\n",
       " ['Dania Khan', 18651.0, 'F'],\n",
       " ['Fahad', 23, 45600.0, 'M']]"
      ]
     },
     "execution_count": 52,
     "metadata": {},
     "output_type": "execute_result"
    }
   ],
   "source": [
    "Celebs"
   ]
  },
  {
   "cell_type": "code",
   "execution_count": 53,
   "id": "6bd6c6d0",
   "metadata": {},
   "outputs": [],
   "source": [
    "Celebs[0][3] = 'F'"
   ]
  },
  {
   "cell_type": "code",
   "execution_count": 54,
   "id": "5ae330dd",
   "metadata": {},
   "outputs": [
    {
     "data": {
      "text/plain": [
       "[['Saleh', 20, 2000.0, 'F'],\n",
       " ['Dania Khan', 18651.0, 'F'],\n",
       " ['Fahad', 23, 45600.0, 'M']]"
      ]
     },
     "execution_count": 54,
     "metadata": {},
     "output_type": "execute_result"
    }
   ],
   "source": [
    "Celebs"
   ]
  },
  {
   "cell_type": "code",
   "execution_count": 56,
   "id": "bd9d4972",
   "metadata": {},
   "outputs": [
    {
     "name": "stdout",
     "output_type": "stream",
     "text": [
      "45600.0\n",
      "18651.0\n",
      "2000.0\n"
     ]
    }
   ],
   "source": [
    "# we are bound to use negative indexing here, bacuase the age of Dania is not given....\n",
    "for i in range(-1,-len(Celebs)-1,-1):\n",
    "    print(Celebs[i][-2])"
   ]
  },
  {
   "cell_type": "code",
   "execution_count": 57,
   "id": "bf436018",
   "metadata": {},
   "outputs": [
    {
     "name": "stdout",
     "output_type": "stream",
     "text": [
      "2000.0\n",
      "18651.0\n",
      "45600.0\n"
     ]
    }
   ],
   "source": [
    "for i in Celebs:\n",
    "    print(i[-2])"
   ]
  },
  {
   "cell_type": "code",
   "execution_count": null,
   "id": "109f51b4",
   "metadata": {},
   "outputs": [],
   "source": []
  }
 ],
 "metadata": {
  "kernelspec": {
   "display_name": "Python 3 (ipykernel)",
   "language": "python",
   "name": "python3"
  },
  "language_info": {
   "codemirror_mode": {
    "name": "ipython",
    "version": 3
   },
   "file_extension": ".py",
   "mimetype": "text/x-python",
   "name": "python",
   "nbconvert_exporter": "python",
   "pygments_lexer": "ipython3",
   "version": "3.9.7"
  }
 },
 "nbformat": 4,
 "nbformat_minor": 5
}
