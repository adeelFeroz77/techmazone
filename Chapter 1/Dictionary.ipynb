{
 "cells": [
  {
   "cell_type": "markdown",
   "id": "e3a986c6",
   "metadata": {},
   "source": [
    "# Dictionary\n",
    "    *Dictionary is a key value pair\n",
    "    *Key data type string, int, float\n",
    "    * value data type string, int, float, dict, list"
   ]
  },
  {
   "cell_type": "code",
   "execution_count": 4,
   "id": "f1bc2eca",
   "metadata": {},
   "outputs": [],
   "source": [
    "employee={\"name\":\"Adeel\",\"age\" : 20,\"salary\" : 250000}"
   ]
  },
  {
   "cell_type": "code",
   "execution_count": 2,
   "id": "dbd8f87a",
   "metadata": {},
   "outputs": [
    {
     "data": {
      "text/plain": [
       "'Adeel'"
      ]
     },
     "execution_count": 2,
     "metadata": {},
     "output_type": "execute_result"
    }
   ],
   "source": [
    "employee[\"name\"]"
   ]
  },
  {
   "cell_type": "code",
   "execution_count": 5,
   "id": "92f70d75",
   "metadata": {},
   "outputs": [],
   "source": [
    "employee[\"designation\"] = \"manager\""
   ]
  },
  {
   "cell_type": "code",
   "execution_count": 6,
   "id": "75b45b7b",
   "metadata": {},
   "outputs": [
    {
     "data": {
      "text/plain": [
       "{'name': 'Adeel', 'age': 20, 'salary': 250000, 'designation': 'manager'}"
      ]
     },
     "execution_count": 6,
     "metadata": {},
     "output_type": "execute_result"
    }
   ],
   "source": [
    "employee"
   ]
  },
  {
   "cell_type": "code",
   "execution_count": 17,
   "id": "66674833",
   "metadata": {},
   "outputs": [],
   "source": [
    "fruits = [\"Apple\",\"Banana\",\"Apple\",\"Banana\",\"Mango\",\"Apple\",\"Banana\",\"Mango\",\"Apple\",\"Banana\",\"Mango\"]"
   ]
  },
  {
   "cell_type": "code",
   "execution_count": 18,
   "id": "e295d1b0",
   "metadata": {},
   "outputs": [
    {
     "data": {
      "text/plain": [
       "{'Apple': 4}"
      ]
     },
     "execution_count": 18,
     "metadata": {},
     "output_type": "execute_result"
    }
   ],
   "source": [
    "freq = {\"Apple\":0}\n",
    "for i in fruits:\n",
    "    if i == \"Apple\":\n",
    "        freq[\"Apple\"] +=1\n",
    "freq"
   ]
  },
  {
   "cell_type": "code",
   "execution_count": 19,
   "id": "766b9f80",
   "metadata": {},
   "outputs": [
    {
     "data": {
      "text/plain": [
       "{'Apple': 4, 'Banana': 4, 'Mango': 3}"
      ]
     },
     "execution_count": 19,
     "metadata": {},
     "output_type": "execute_result"
    }
   ],
   "source": [
    "lists = {}\n",
    "for i in fruits:\n",
    "    if i in lists:\n",
    "        lists[i] +=1\n",
    "    else:\n",
    "        lists[i] = 1\n",
    "        \n",
    "lists"
   ]
  },
  {
   "cell_type": "code",
   "execution_count": null,
   "id": "682eeb08",
   "metadata": {},
   "outputs": [],
   "source": []
  }
 ],
 "metadata": {
  "kernelspec": {
   "display_name": "Python 3 (ipykernel)",
   "language": "python",
   "name": "python3"
  },
  "language_info": {
   "codemirror_mode": {
    "name": "ipython",
    "version": 3
   },
   "file_extension": ".py",
   "mimetype": "text/x-python",
   "name": "python",
   "nbconvert_exporter": "python",
   "pygments_lexer": "ipython3",
   "version": "3.9.7"
  }
 },
 "nbformat": 4,
 "nbformat_minor": 5
}
