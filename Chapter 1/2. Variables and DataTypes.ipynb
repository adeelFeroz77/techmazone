{
 "cells": [
  {
   "cell_type": "markdown",
   "id": "f822313a",
   "metadata": {},
   "source": [
    "# Variable Declaration and Initialization Syntax\n",
    "    * variable_name = value\n",
    "    * = assignment Operator"
   ]
  },
  {
   "cell_type": "code",
   "execution_count": 2,
   "id": "fed154b9",
   "metadata": {},
   "outputs": [
    {
     "name": "stdout",
     "output_type": "stream",
     "text": [
      "9\n"
     ]
    }
   ],
   "source": [
    "a=9\n",
    "print(a)"
   ]
  },
  {
   "cell_type": "markdown",
   "id": "a71f3bd1",
   "metadata": {},
   "source": [
    "# Legal Variable\n",
    "    * must begin with a letter (a-z)(A-Z) OR _\n",
    "    * (optional) Other characters can be letters numbers or underscore(_)"
   ]
  },
  {
   "cell_type": "code",
   "execution_count": null,
   "id": "a9df6c67",
   "metadata": {},
   "outputs": [],
   "source": [
    "type(a)"
   ]
  },
  {
   "cell_type": "code",
   "execution_count": 4,
   "id": "414acc29",
   "metadata": {},
   "outputs": [
    {
     "name": "stdout",
     "output_type": "stream",
     "text": [
      "<class 'str'>\n"
     ]
    }
   ],
   "source": [
    "x = \"adeeeel\"\n",
    "print(type(x))"
   ]
  },
  {
   "cell_type": "markdown",
   "id": "78abf8cf",
   "metadata": {},
   "source": [
    "# Special Assigment Operator (Increment Ops)"
   ]
  },
  {
   "cell_type": "code",
   "execution_count": 3,
   "id": "c3a33eef",
   "metadata": {},
   "outputs": [
    {
     "data": {
      "text/plain": [
       "121"
      ]
     },
     "execution_count": 3,
     "metadata": {},
     "output_type": "execute_result"
    }
   ],
   "source": [
    "a+=2\n",
    "a\n",
    "a**=2\n",
    "a"
   ]
  },
  {
   "cell_type": "code",
   "execution_count": 5,
   "id": "503c79c5",
   "metadata": {},
   "outputs": [
    {
     "name": "stdout",
     "output_type": "stream",
     "text": [
      "7.0\n"
     ]
    }
   ],
   "source": [
    "print(float(7))"
   ]
  },
  {
   "cell_type": "code",
   "execution_count": 6,
   "id": "18907997",
   "metadata": {},
   "outputs": [
    {
     "name": "stdout",
     "output_type": "stream",
     "text": [
      "7\n"
     ]
    }
   ],
   "source": [
    "print(int(7))"
   ]
  },
  {
   "cell_type": "code",
   "execution_count": 7,
   "id": "36171dfb",
   "metadata": {},
   "outputs": [
    {
     "name": "stdout",
     "output_type": "stream",
     "text": [
      "8\n"
     ]
    }
   ],
   "source": [
    "print(str(8))"
   ]
  },
  {
   "cell_type": "code",
   "execution_count": 12,
   "id": "2bba7c47",
   "metadata": {},
   "outputs": [
    {
     "name": "stdout",
     "output_type": "stream",
     "text": [
      "8\n"
     ]
    }
   ],
   "source": [
    "print(int(float(\"8.232\")))"
   ]
  },
  {
   "cell_type": "code",
   "execution_count": null,
   "id": "09c078e0",
   "metadata": {},
   "outputs": [],
   "source": []
  }
 ],
 "metadata": {
  "kernelspec": {
   "display_name": "Python 3 (ipykernel)",
   "language": "python",
   "name": "python3"
  },
  "language_info": {
   "codemirror_mode": {
    "name": "ipython",
    "version": 3
   },
   "file_extension": ".py",
   "mimetype": "text/x-python",
   "name": "python",
   "nbconvert_exporter": "python",
   "pygments_lexer": "ipython3",
   "version": "3.9.7"
  }
 },
 "nbformat": 4,
 "nbformat_minor": 5
}
