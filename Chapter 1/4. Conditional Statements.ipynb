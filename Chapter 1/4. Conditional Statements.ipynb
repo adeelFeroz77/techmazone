{
 "cells": [
  {
   "cell_type": "markdown",
   "id": "64641b5a",
   "metadata": {},
   "source": [
    "# Conditional Statements\n",
    "    *Syntax:\n",
    "        if condition:\n",
    "            statement\n",
    "        else:\n",
    "            statement"
   ]
  },
  {
   "cell_type": "code",
   "execution_count": 1,
   "id": "e5d0a538",
   "metadata": {},
   "outputs": [
    {
     "name": "stdout",
     "output_type": "stream",
     "text": [
      "Not Eligible\n"
     ]
    }
   ],
   "source": [
    "age = 18\n",
    "\n",
    "if age>18:\n",
    "    print(\"Eligible\")\n",
    "else:\n",
    "    print(\"Not Eligible\")"
   ]
  },
  {
   "cell_type": "code",
   "execution_count": null,
   "id": "7a50c4d6",
   "metadata": {},
   "outputs": [],
   "source": []
  }
 ],
 "metadata": {
  "kernelspec": {
   "display_name": "Python 3 (ipykernel)",
   "language": "python",
   "name": "python3"
  },
  "language_info": {
   "codemirror_mode": {
    "name": "ipython",
    "version": 3
   },
   "file_extension": ".py",
   "mimetype": "text/x-python",
   "name": "python",
   "nbconvert_exporter": "python",
   "pygments_lexer": "ipython3",
   "version": "3.9.7"
  }
 },
 "nbformat": 4,
 "nbformat_minor": 5
}
