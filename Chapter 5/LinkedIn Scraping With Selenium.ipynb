{
 "cells": [
  {
   "cell_type": "code",
   "execution_count": 7,
   "id": "ce65017e",
   "metadata": {},
   "outputs": [],
   "source": [
    "from selenium import webdriver\n",
    "from selenium.webdriver.common.keys import Keys\n",
    "from selenium.webdriver.support import expected_conditions as EC\n",
    "from selenium.webdriver.common.by import By\n",
    "from selenium.webdriver.support.wait import WebDriverWait\n",
    "import time\n",
    "# pip install --upgrade --force-reinstall chromedriver-binary-auto\n",
    "# import chromedriver_binary"
   ]
  },
  {
   "cell_type": "code",
   "execution_count": 10,
   "id": "beb0038e",
   "metadata": {},
   "outputs": [],
   "source": [
    "user = \"adil.feroz.7@gmail.com\""
   ]
  },
  {
   "cell_type": "code",
   "execution_count": 12,
   "id": "5fc6a2c6",
   "metadata": {},
   "outputs": [],
   "source": [
    "driver = webdriver.Chrome()\n",
    "driver.get(\"https://www.linkedin.com/login\")"
   ]
  },
  {
   "cell_type": "code",
   "execution_count": 13,
   "id": "49ac1157",
   "metadata": {},
   "outputs": [],
   "source": [
    "css = \"input[id='username']\""
   ]
  },
  {
   "cell_type": "code",
   "execution_count": 14,
   "id": "792d1a24",
   "metadata": {},
   "outputs": [],
   "source": [
    "username = WebDriverWait(driver,10).until(EC.element_to_be_clickable((By.CSS_SELECTOR,css)))"
   ]
  },
  {
   "cell_type": "code",
   "execution_count": 15,
   "id": "7c9065bb",
   "metadata": {},
   "outputs": [],
   "source": [
    "username.clear()\n",
    "username.send_keys(user)"
   ]
  },
  {
   "cell_type": "code",
   "execution_count": 17,
   "id": "d15ae071",
   "metadata": {},
   "outputs": [],
   "source": [
    "css = \"input[id='password']\"\n",
    "password = WebDriverWait(driver,10).until(EC.element_to_be_clickable((By.CSS_SELECTOR,css)))\n",
    "password.clear()\n",
    "password.send_keys(passw)"
   ]
  },
  {
   "cell_type": "code",
   "execution_count": 18,
   "id": "0aa9d1a5",
   "metadata": {},
   "outputs": [],
   "source": [
    "css = \"button[type='submit']\"\n",
    "submitBtn = WebDriverWait(driver,10).until(EC.element_to_be_clickable((By.CSS_SELECTOR,css)))\n",
    "submitBtn.click()"
   ]
  },
  {
   "cell_type": "code",
   "execution_count": 19,
   "id": "f19e909d",
   "metadata": {},
   "outputs": [],
   "source": [
    "jobsTab = \"https://www.linkedin.com/jobs/\"\n",
    "driver.get(jobsTab)"
   ]
  },
  {
   "cell_type": "code",
   "execution_count": 83,
   "id": "4dbc3f71",
   "metadata": {},
   "outputs": [],
   "source": [
    "div = driver.find_elements(By.CLASS_NAME,'jobs-job-board-list__footer')"
   ]
  },
  {
   "cell_type": "code",
   "execution_count": 85,
   "id": "efdfa004",
   "metadata": {},
   "outputs": [
    {
     "data": {
      "text/plain": [
       "[<selenium.webdriver.remote.webelement.WebElement (session=\"2d8fe45a442a53a5337a29fd7ae95dc6\", element=\"60c856d7-2a8f-4e41-bf1c-9cc000c383a2\")>,\n",
       " <selenium.webdriver.remote.webelement.WebElement (session=\"2d8fe45a442a53a5337a29fd7ae95dc6\", element=\"bd76a975-2379-4aa6-b3b1-3922acda3b10\")>]"
      ]
     },
     "execution_count": 85,
     "metadata": {},
     "output_type": "execute_result"
    }
   ],
   "source": [
    "div"
   ]
  },
  {
   "cell_type": "code",
   "execution_count": 82,
   "id": "3ae74a64",
   "metadata": {},
   "outputs": [
    {
     "data": {
      "text/plain": [
       "'Show all'"
      ]
     },
     "execution_count": 82,
     "metadata": {},
     "output_type": "execute_result"
    }
   ],
   "source": [
    "jobsLink.text"
   ]
  },
  {
   "cell_type": "code",
   "execution_count": null,
   "id": "e1ed7782",
   "metadata": {},
   "outputs": [],
   "source": []
  }
 ],
 "metadata": {
  "kernelspec": {
   "display_name": "Python 3 (ipykernel)",
   "language": "python",
   "name": "python3"
  },
  "language_info": {
   "codemirror_mode": {
    "name": "ipython",
    "version": 3
   },
   "file_extension": ".py",
   "mimetype": "text/x-python",
   "name": "python",
   "nbconvert_exporter": "python",
   "pygments_lexer": "ipython3",
   "version": "3.9.7"
  }
 },
 "nbformat": 4,
 "nbformat_minor": 5
}
