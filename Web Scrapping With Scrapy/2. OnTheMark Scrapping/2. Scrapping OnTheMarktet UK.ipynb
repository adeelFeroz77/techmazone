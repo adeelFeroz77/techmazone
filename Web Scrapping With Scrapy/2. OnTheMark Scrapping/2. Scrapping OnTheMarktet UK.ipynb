{
 "cells": [
  {
   "cell_type": "code",
   "execution_count": 1,
   "id": "e8ca3a48",
   "metadata": {},
   "outputs": [
    {
     "name": "stderr",
     "output_type": "stream",
     "text": [
      "2022-07-23 13:25:49 [scrapy.utils.log] INFO: Scrapy 2.6.1 started (bot: scrapybot)\n",
      "2022-07-23 13:25:49 [scrapy.utils.log] INFO: Versions: lxml 4.6.3.0, libxml2 2.9.12, cssselect 1.1.0, parsel 1.6.0, w3lib 1.22.0, Twisted 22.4.0, Python 3.9.7 (default, Sep 16 2021, 13:09:58) - [GCC 7.5.0], pyOpenSSL 21.0.0 (OpenSSL 1.1.1l  24 Aug 2021), cryptography 3.4.8, Platform Linux-5.15.0-41-generic-x86_64-with-glibc2.35\n",
      "2022-07-23 13:25:49 [scrapy.crawler] INFO: Overridden settings:\n",
      "{'LOG_FILE': 'onthemarket.log'}\n"
     ]
    }
   ],
   "source": [
    "import scrapy\n",
    "from scrapy.crawler import CrawlerProcess\n",
    "liss = []\n",
    "class OnTheMarket(scrapy.Spider):\n",
    "    name = \"onthemarket\"\n",
    "    header = {\"User-Agent\": \"Mozilla/5.0 (X11; Linux x86_64) AppleWebKit/537.36 (KHTML, like Gecko) Chrome/103.0.5060.114 Safari/537.36 OPR/89.0.4447.48\"}\n",
    "    \n",
    "    custom_settings = {\n",
    "        'FEED_FORMAT' : 'csv',\n",
    "        'FEED_URI' : 'onthemarket.csv',\n",
    "        'LOG_FILE' : 'onthemarket.log'\n",
    "    }\n",
    "    \n",
    "    def start_requests(self):\n",
    "        url = \"https://www.onthemarket.com/for-sale/property/london/\"\n",
    "        for i in range(4):\n",
    "            next_page = url + \"?page=\" + str(i)\n",
    "            yield scrapy.Request(url = next_page, headers= self.header, callback = self.parse)\n",
    "    \n",
    "    def parse(self,response):\n",
    "        for card in response.css(\"li.otm-PropertyCard\"):\n",
    "            item = {\n",
    "                \"Title\": card.css(\"span.title > a::text\").get(),\n",
    "                \"Address\" : card.css(\"span.address > a::text\").get(),\n",
    "                \"Price\" : card.css(\"div.otm-Price *::text\").getall()[-1],\n",
    "                \"Agency\" : card.css(\"div.otm-PropertyCardAgent * ::text\").getall()[2],\n",
    "                \"Phone\" : card.css(\"div.otm-PropertyCardAgent * ::text\").getall()[3]\n",
    "            }\n",
    "            yield item\n",
    "        \n",
    "process = CrawlerProcess()\n",
    "process.crawl(OnTheMarket)\n",
    "process.start()\n",
    "    "
   ]
  },
  {
   "cell_type": "code",
   "execution_count": 2,
   "id": "f86c4c52",
   "metadata": {},
   "outputs": [
    {
     "data": {
      "text/plain": [
       "[]"
      ]
     },
     "execution_count": 2,
     "metadata": {},
     "output_type": "execute_result"
    }
   ],
   "source": [
    "liss"
   ]
  },
  {
   "cell_type": "code",
   "execution_count": null,
   "id": "265577ad",
   "metadata": {},
   "outputs": [],
   "source": []
  }
 ],
 "metadata": {
  "kernelspec": {
   "display_name": "Python 3 (ipykernel)",
   "language": "python",
   "name": "python3"
  },
  "language_info": {
   "codemirror_mode": {
    "name": "ipython",
    "version": 3
   },
   "file_extension": ".py",
   "mimetype": "text/x-python",
   "name": "python",
   "nbconvert_exporter": "python",
   "pygments_lexer": "ipython3",
   "version": "3.9.7"
  }
 },
 "nbformat": 4,
 "nbformat_minor": 5
}
