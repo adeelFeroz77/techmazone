{
 "cells": [
  {
   "cell_type": "code",
   "execution_count": 10,
   "id": "eb9051f0",
   "metadata": {},
   "outputs": [],
   "source": [
    "import pandas as pd\n",
    "import re"
   ]
  },
  {
   "cell_type": "code",
   "execution_count": 48,
   "id": "d2cff5bb",
   "metadata": {},
   "outputs": [],
   "source": [
    "ds = pd.read_csv(\"hacker_news.csv\")"
   ]
  },
  {
   "cell_type": "code",
   "execution_count": 49,
   "id": "a4520a91",
   "metadata": {},
   "outputs": [
    {
     "data": {
      "text/html": [
       "<div>\n",
       "<style scoped>\n",
       "    .dataframe tbody tr th:only-of-type {\n",
       "        vertical-align: middle;\n",
       "    }\n",
       "\n",
       "    .dataframe tbody tr th {\n",
       "        vertical-align: top;\n",
       "    }\n",
       "\n",
       "    .dataframe thead th {\n",
       "        text-align: right;\n",
       "    }\n",
       "</style>\n",
       "<table border=\"1\" class=\"dataframe\">\n",
       "  <thead>\n",
       "    <tr style=\"text-align: right;\">\n",
       "      <th></th>\n",
       "      <th>id</th>\n",
       "      <th>title</th>\n",
       "      <th>url</th>\n",
       "      <th>num_points</th>\n",
       "      <th>num_comments</th>\n",
       "      <th>author</th>\n",
       "      <th>created_at</th>\n",
       "    </tr>\n",
       "  </thead>\n",
       "  <tbody>\n",
       "    <tr>\n",
       "      <th>0</th>\n",
       "      <td>12224879</td>\n",
       "      <td>Interactive Dynamic Video</td>\n",
       "      <td>http://www.interactivedynamicvideo.com/</td>\n",
       "      <td>386</td>\n",
       "      <td>52</td>\n",
       "      <td>ne0phyte</td>\n",
       "      <td>8/4/2016 11:52</td>\n",
       "    </tr>\n",
       "    <tr>\n",
       "      <th>1</th>\n",
       "      <td>11964716</td>\n",
       "      <td>Florida DJs May Face Felony for April Fools' W...</td>\n",
       "      <td>http://www.thewire.com/entertainment/2013/04/f...</td>\n",
       "      <td>2</td>\n",
       "      <td>1</td>\n",
       "      <td>vezycash</td>\n",
       "      <td>6/23/2016 22:20</td>\n",
       "    </tr>\n",
       "    <tr>\n",
       "      <th>2</th>\n",
       "      <td>11919867</td>\n",
       "      <td>Technology ventures: From Idea to Enterprise</td>\n",
       "      <td>https://www.amazon.com/Technology-Ventures-Ent...</td>\n",
       "      <td>3</td>\n",
       "      <td>1</td>\n",
       "      <td>hswarna</td>\n",
       "      <td>6/17/2016 0:01</td>\n",
       "    </tr>\n",
       "    <tr>\n",
       "      <th>3</th>\n",
       "      <td>10301696</td>\n",
       "      <td>Note by Note: The Making of Steinway L1037 (2007)</td>\n",
       "      <td>http://www.nytimes.com/2007/11/07/movies/07ste...</td>\n",
       "      <td>8</td>\n",
       "      <td>2</td>\n",
       "      <td>walterbell</td>\n",
       "      <td>9/30/2015 4:12</td>\n",
       "    </tr>\n",
       "    <tr>\n",
       "      <th>4</th>\n",
       "      <td>10482257</td>\n",
       "      <td>Title II kills investment? Comcast and other I...</td>\n",
       "      <td>http://arstechnica.com/business/2015/10/comcas...</td>\n",
       "      <td>53</td>\n",
       "      <td>22</td>\n",
       "      <td>Deinos</td>\n",
       "      <td>10/31/2015 9:48</td>\n",
       "    </tr>\n",
       "    <tr>\n",
       "      <th>...</th>\n",
       "      <td>...</td>\n",
       "      <td>...</td>\n",
       "      <td>...</td>\n",
       "      <td>...</td>\n",
       "      <td>...</td>\n",
       "      <td>...</td>\n",
       "      <td>...</td>\n",
       "    </tr>\n",
       "    <tr>\n",
       "      <th>20094</th>\n",
       "      <td>12379592</td>\n",
       "      <td>How Purism Avoids Intels Active Management Tec...</td>\n",
       "      <td>https://puri.sm/philosophy/how-purism-avoids-i...</td>\n",
       "      <td>10</td>\n",
       "      <td>6</td>\n",
       "      <td>AdmiralAsshat</td>\n",
       "      <td>8/29/2016 2:22</td>\n",
       "    </tr>\n",
       "    <tr>\n",
       "      <th>20095</th>\n",
       "      <td>10339284</td>\n",
       "      <td>YC Application Translated and Broken Down</td>\n",
       "      <td>https://medium.com/@zreitano/the-yc-applicatio...</td>\n",
       "      <td>4</td>\n",
       "      <td>1</td>\n",
       "      <td>zreitano</td>\n",
       "      <td>10/6/2015 14:57</td>\n",
       "    </tr>\n",
       "    <tr>\n",
       "      <th>20096</th>\n",
       "      <td>10824382</td>\n",
       "      <td>Microkernels are slow and Elvis didn't do no d...</td>\n",
       "      <td>http://blog.darknedgy.net/technology/2016/01/0...</td>\n",
       "      <td>169</td>\n",
       "      <td>132</td>\n",
       "      <td>vezzy-fnord</td>\n",
       "      <td>1/2/2016 0:49</td>\n",
       "    </tr>\n",
       "    <tr>\n",
       "      <th>20097</th>\n",
       "      <td>10739875</td>\n",
       "      <td>How Product Hunt really works</td>\n",
       "      <td>https://medium.com/@benjiwheeler/how-product-h...</td>\n",
       "      <td>695</td>\n",
       "      <td>222</td>\n",
       "      <td>brw12</td>\n",
       "      <td>12/15/2015 19:32</td>\n",
       "    </tr>\n",
       "    <tr>\n",
       "      <th>20098</th>\n",
       "      <td>11680777</td>\n",
       "      <td>RoboBrowser: Your friendly neighborhood web sc...</td>\n",
       "      <td>https://github.com/jmcarp/robobrowser</td>\n",
       "      <td>182</td>\n",
       "      <td>58</td>\n",
       "      <td>pmoriarty</td>\n",
       "      <td>5/12/2016 1:43</td>\n",
       "    </tr>\n",
       "  </tbody>\n",
       "</table>\n",
       "<p>20099 rows × 7 columns</p>\n",
       "</div>"
      ],
      "text/plain": [
       "             id                                              title  \\\n",
       "0      12224879                          Interactive Dynamic Video   \n",
       "1      11964716  Florida DJs May Face Felony for April Fools' W...   \n",
       "2      11919867       Technology ventures: From Idea to Enterprise   \n",
       "3      10301696  Note by Note: The Making of Steinway L1037 (2007)   \n",
       "4      10482257  Title II kills investment? Comcast and other I...   \n",
       "...         ...                                                ...   \n",
       "20094  12379592  How Purism Avoids Intels Active Management Tec...   \n",
       "20095  10339284          YC Application Translated and Broken Down   \n",
       "20096  10824382  Microkernels are slow and Elvis didn't do no d...   \n",
       "20097  10739875                      How Product Hunt really works   \n",
       "20098  11680777  RoboBrowser: Your friendly neighborhood web sc...   \n",
       "\n",
       "                                                     url  num_points  \\\n",
       "0                http://www.interactivedynamicvideo.com/         386   \n",
       "1      http://www.thewire.com/entertainment/2013/04/f...           2   \n",
       "2      https://www.amazon.com/Technology-Ventures-Ent...           3   \n",
       "3      http://www.nytimes.com/2007/11/07/movies/07ste...           8   \n",
       "4      http://arstechnica.com/business/2015/10/comcas...          53   \n",
       "...                                                  ...         ...   \n",
       "20094  https://puri.sm/philosophy/how-purism-avoids-i...          10   \n",
       "20095  https://medium.com/@zreitano/the-yc-applicatio...           4   \n",
       "20096  http://blog.darknedgy.net/technology/2016/01/0...         169   \n",
       "20097  https://medium.com/@benjiwheeler/how-product-h...         695   \n",
       "20098              https://github.com/jmcarp/robobrowser         182   \n",
       "\n",
       "       num_comments         author        created_at  \n",
       "0                52       ne0phyte    8/4/2016 11:52  \n",
       "1                 1       vezycash   6/23/2016 22:20  \n",
       "2                 1        hswarna    6/17/2016 0:01  \n",
       "3                 2     walterbell    9/30/2015 4:12  \n",
       "4                22         Deinos   10/31/2015 9:48  \n",
       "...             ...            ...               ...  \n",
       "20094             6  AdmiralAsshat    8/29/2016 2:22  \n",
       "20095             1       zreitano   10/6/2015 14:57  \n",
       "20096           132    vezzy-fnord     1/2/2016 0:49  \n",
       "20097           222          brw12  12/15/2015 19:32  \n",
       "20098            58      pmoriarty    5/12/2016 1:43  \n",
       "\n",
       "[20099 rows x 7 columns]"
      ]
     },
     "execution_count": 49,
     "metadata": {},
     "output_type": "execute_result"
    }
   ],
   "source": [
    "ds"
   ]
  },
  {
   "cell_type": "code",
   "execution_count": 5,
   "id": "0628c164",
   "metadata": {},
   "outputs": [],
   "source": [
    "import re"
   ]
  },
  {
   "cell_type": "code",
   "execution_count": 5,
   "id": "a4c40124",
   "metadata": {},
   "outputs": [
    {
     "data": {
      "text/plain": [
       "<re.Match object; span=(12, 15), match='and'>"
      ]
     },
     "execution_count": 5,
     "metadata": {},
     "output_type": "execute_result"
    }
   ],
   "source": [
    "re.search(\"and\",\"I have two hands\")"
   ]
  },
  {
   "cell_type": "code",
   "execution_count": 6,
   "id": "b3d3a514",
   "metadata": {},
   "outputs": [
    {
     "name": "stdout",
     "output_type": "stream",
     "text": [
      "Done\n"
     ]
    }
   ],
   "source": [
    "if re.search(\"and\",\"I have two hands\"):\n",
    "    print(\"Done\")"
   ]
  },
  {
   "cell_type": "code",
   "execution_count": 50,
   "id": "5bd37b58",
   "metadata": {},
   "outputs": [
    {
     "data": {
      "text/plain": [
       "0                            Interactive Dynamic Video\n",
       "1    Florida DJs May Face Felony for April Fools' W...\n",
       "2         Technology ventures: From Idea to Enterprise\n",
       "3    Note by Note: The Making of Steinway L1037 (2007)\n",
       "4    Title II kills investment? Comcast and other I...\n",
       "Name: title, dtype: object"
      ]
     },
     "execution_count": 50,
     "metadata": {},
     "output_type": "execute_result"
    }
   ],
   "source": [
    "title = ds[\"title\"]\n",
    "title.shape\n",
    "title.head()"
   ]
  },
  {
   "cell_type": "code",
   "execution_count": 9,
   "id": "123cf402",
   "metadata": {},
   "outputs": [],
   "source": [
    "\"mend\",\"send\",\"bend\"\n",
    "\n",
    "RE = \"[msb]end\"\n"
   ]
  },
  {
   "cell_type": "code",
   "execution_count": 10,
   "id": "d9aebb8c",
   "metadata": {},
   "outputs": [],
   "source": [
    "pattern = \"[Pp]ython\""
   ]
  },
  {
   "cell_type": "code",
   "execution_count": 11,
   "id": "1cc4373c",
   "metadata": {},
   "outputs": [
    {
     "data": {
      "text/plain": [
       "160"
      ]
     },
     "execution_count": 11,
     "metadata": {},
     "output_type": "execute_result"
    }
   ],
   "source": [
    "count = 0\n",
    "for i in title:\n",
    "    if re.search(pattern,i):\n",
    "        count+=1\n",
    "count"
   ]
  },
  {
   "cell_type": "code",
   "execution_count": 12,
   "id": "fbfe9bd2",
   "metadata": {},
   "outputs": [],
   "source": [
    "boolean = title.str.contains(pattern)"
   ]
  },
  {
   "cell_type": "code",
   "execution_count": 13,
   "id": "6a6013ac",
   "metadata": {},
   "outputs": [
    {
     "data": {
      "text/plain": [
       "160"
      ]
     },
     "execution_count": 13,
     "metadata": {},
     "output_type": "execute_result"
    }
   ],
   "source": [
    "boolean.sum()"
   ]
  },
  {
   "cell_type": "code",
   "execution_count": 14,
   "id": "48f5e2d1",
   "metadata": {},
   "outputs": [
    {
     "data": {
      "text/plain": [
       "102                    From Python to Lua: Why We Switched\n",
       "103              Ubuntu 16.04 LTS to Ship Without Python 2\n",
       "144      Create a GUI Application Using Qt and Python i...\n",
       "196      How I Solved GCHQ's Xmas Card with Python and ...\n",
       "436      Unikernel Power Comes to Java, Node.js, Go, an...\n",
       "                               ...                        \n",
       "19597    David Beazley  Python Concurrency from the Gro...\n",
       "19852      Ask HN: How to automate Python apps deployment?\n",
       "19862                            Moving Away from Python 2\n",
       "19980                        Python vs. Julia Observations\n",
       "19998    Show HN: Decorating: Animated pulsed for your ...\n",
       "Name: title, Length: 160, dtype: object"
      ]
     },
     "execution_count": 14,
     "metadata": {},
     "output_type": "execute_result"
    }
   ],
   "source": [
    "title[boolean]"
   ]
  },
  {
   "cell_type": "code",
   "execution_count": 15,
   "id": "1f3656c7",
   "metadata": {},
   "outputs": [
    {
     "data": {
      "text/plain": [
       "3        Note by Note: The Making of Steinway L1037 (2007)\n",
       "34                        The reverse job applicant (2010)\n",
       "50         Ask HN: Which framework for a CRUD app in 2016?\n",
       "59            2015 in review  1 year after I quit blogging\n",
       "80       Apple Watch Scooped Up Over Half the Smartwatc...\n",
       "                               ...                        \n",
       "20032    Things I Wont Work With: Dioxygen Difluoride (...\n",
       "20049    Study: US is an oligarchy, not a democracy (2014)\n",
       "20075    Tips from a Pro: An Introduction to Microscopi...\n",
       "20081                 Usenet, what have you become? (2012)\n",
       "20082    Colma, Calif., Is a Town of 2.2 Square Miles, ...\n",
       "Name: title, Length: 1143, dtype: object"
      ]
     },
     "execution_count": 15,
     "metadata": {},
     "output_type": "execute_result"
    }
   ],
   "source": [
    "pattern = \"[1-2][0-9][0-9][0-9]\"\n",
    "title[title.str.contains(pattern)]"
   ]
  },
  {
   "cell_type": "code",
   "execution_count": 16,
   "id": "92c9430d",
   "metadata": {},
   "outputs": [
    {
     "data": {
      "text/plain": [
       "3        Note by Note: The Making of Steinway L1037 (2007)\n",
       "34                        The reverse job applicant (2010)\n",
       "50         Ask HN: Which framework for a CRUD app in 2016?\n",
       "59            2015 in review  1 year after I quit blogging\n",
       "80       Apple Watch Scooped Up Over Half the Smartwatc...\n",
       "                               ...                        \n",
       "20032    Things I Wont Work With: Dioxygen Difluoride (...\n",
       "20049    Study: US is an oligarchy, not a democracy (2014)\n",
       "20075    Tips from a Pro: An Introduction to Microscopi...\n",
       "20081                 Usenet, what have you become? (2012)\n",
       "20082    Colma, Calif., Is a Town of 2.2 Square Miles, ...\n",
       "Name: title, Length: 1143, dtype: object"
      ]
     },
     "execution_count": 16,
     "metadata": {},
     "output_type": "execute_result"
    }
   ],
   "source": [
    "pattern = \"[1-2][0-9]{3}\"\n",
    "title[title.str.contains(pattern)]"
   ]
  },
  {
   "cell_type": "code",
   "execution_count": 20,
   "id": "8bdcc006",
   "metadata": {},
   "outputs": [],
   "source": [
    "pattern = \"e-{0,1}mail\" #OR e-?mail\n",
    "x = re.search(pattern,\"email\")\n",
    "y = re.search(pattern,\"e-mail\")"
   ]
  },
  {
   "cell_type": "code",
   "execution_count": 21,
   "id": "ac979529",
   "metadata": {},
   "outputs": [
    {
     "data": {
      "text/plain": [
       "<re.Match object; span=(0, 5), match='email'>"
      ]
     },
     "execution_count": 21,
     "metadata": {},
     "output_type": "execute_result"
    }
   ],
   "source": [
    "x"
   ]
  },
  {
   "cell_type": "code",
   "execution_count": 22,
   "id": "6cd85300",
   "metadata": {},
   "outputs": [
    {
     "data": {
      "text/plain": [
       "<re.Match object; span=(0, 6), match='e-mail'>"
      ]
     },
     "execution_count": 22,
     "metadata": {},
     "output_type": "execute_result"
    }
   ],
   "source": [
    "y"
   ]
  },
  {
   "cell_type": "code",
   "execution_count": 24,
   "id": "fcf5b2f7",
   "metadata": {},
   "outputs": [
    {
     "data": {
      "text/plain": [
       "email     81\n",
       "e-mail     5\n",
       "dtype: int64"
      ]
     },
     "execution_count": 24,
     "metadata": {},
     "output_type": "execute_result"
    }
   ],
   "source": [
    "#CAPTURE USING ( )\n",
    "pattern = \"(e-?mail)\"\n",
    "title.str.extract(pattern).value_counts()"
   ]
  },
  {
   "cell_type": "code",
   "execution_count": 25,
   "id": "6bdf9996",
   "metadata": {},
   "outputs": [
    {
     "data": {
      "text/plain": [
       "mail    86\n",
       "dtype: int64"
      ]
     },
     "execution_count": 25,
     "metadata": {},
     "output_type": "execute_result"
    }
   ],
   "source": [
    "pattern = \"e-?(mail)\"\n",
    "title.str.extract(pattern).value_counts()"
   ]
  },
  {
   "cell_type": "code",
   "execution_count": 31,
   "id": "4b80ae1d",
   "metadata": {
    "scrolled": true
   },
   "outputs": [
    {
     "data": {
      "text/plain": [
       "pdf            276\n",
       "video          111\n",
       "2015             3\n",
       "audio            3\n",
       "2014             2\n",
       "beta             2\n",
       "slides           2\n",
       "1996             1\n",
       "map              1\n",
       "ask              1\n",
       "blank            1\n",
       "coffee           1\n",
       "comic            1\n",
       "crash            1\n",
       "detainee         1\n",
       "gif              1\n",
       "png              1\n",
       "much             1\n",
       "Ubuntu           1\n",
       "repost           1\n",
       "satire           1\n",
       "song             1\n",
       "survey           1\n",
       "transcript       1\n",
       "updated          1\n",
       "videos           1\n",
       "Videos           1\n",
       "USA              1\n",
       "2008             1\n",
       "SpaceX           1\n",
       "5                1\n",
       "ANNOUNCE         1\n",
       "Australian       1\n",
       "Benchmark        1\n",
       "Beta             1\n",
       "CSS              1\n",
       "Challenge        1\n",
       "Excerpt          1\n",
       "GOST             1\n",
       "German           1\n",
       "HBR              1\n",
       "Infograph        1\n",
       "JavaScript       1\n",
       "Live             1\n",
       "Map              1\n",
       "NSFW             1\n",
       "Petition         1\n",
       "Python           1\n",
       "React            1\n",
       "SPA              1\n",
       "Skinnywhale      1\n",
       "viz              1\n",
       "dtype: int64"
      ]
     },
     "execution_count": 31,
     "metadata": {},
     "output_type": "execute_result"
    }
   ],
   "source": [
    "#Q) Catch anything in a string in box bracket e.g [pdf],[asd],[1564]\n",
    "\n",
    "pattern = \"\\[(\\w+)\\]\" #since [] is a part of RE we use \\ \n",
    "title.str.extract(pattern).value_counts()"
   ]
  },
  {
   "cell_type": "code",
   "execution_count": 32,
   "id": "6faf9f7a",
   "metadata": {},
   "outputs": [
    {
     "data": {
      "text/plain": [
       "'asdhlkj_jsahdaksjlf_sadjkh'"
      ]
     },
     "execution_count": 32,
     "metadata": {},
     "output_type": "execute_result"
    }
   ],
   "source": [
    "a = \"asdhlkj   jsahdaksjlf  sadjkh\"\n",
    "re.sub(\"\\s+\",\"_\",a)"
   ]
  },
  {
   "cell_type": "code",
   "execution_count": 44,
   "id": "67f754be",
   "metadata": {},
   "outputs": [
    {
     "name": "stdout",
     "output_type": "stream",
     "text": [
      "None\n"
     ]
    }
   ],
   "source": [
    "#NOT WORKING\n",
    "d = \"I am learning Java\"\n",
    "pattern = \"[Jj]ava[^Ss]\"\n",
    "print(re.search(pattern,d))"
   ]
  },
  {
   "cell_type": "code",
   "execution_count": 41,
   "id": "2d92b42f",
   "metadata": {},
   "outputs": [
    {
     "name": "stdout",
     "output_type": "stream",
     "text": [
      "<re.Match object; span=(14, 18), match='Java'>\n"
     ]
    }
   ],
   "source": [
    "d = \"I am learning Java\"\n",
    "pattern = \"\\\\b[Jj]ava\\\\b\" #Boundry, but it will include Speacial Characters\n",
    "print(re.search(pattern,d))"
   ]
  },
  {
   "cell_type": "code",
   "execution_count": 46,
   "id": "d8c8ddcf",
   "metadata": {},
   "outputs": [
    {
     "name": "stdout",
     "output_type": "stream",
     "text": [
      "[Ee][Mm][Aa][Ii][Ll] Email\n",
      "[Ee][Mm][Aa][Ii][Ll] eMail\n",
      "[Ee][Mm][Aa][Ii][Ll] emAil\n",
      "[Ee][Mm][Aa][Ii][Ll] emaIl\n",
      "[Ee][Mm][Aa][Ii][Ll] EMAIL\n"
     ]
    }
   ],
   "source": [
    "pattern = \"[Ee][Mm][Aa][Ii][Ll]\"\n",
    "print(pattern,\"Email\")\n",
    "print(pattern,\"eMail\")\n",
    "print(pattern,\"emAil\")\n",
    "print(pattern,\"emaIl\")\n",
    "print(pattern,\"EMAIL\")"
   ]
  },
  {
   "cell_type": "code",
   "execution_count": 54,
   "id": "8c8d1954",
   "metadata": {},
   "outputs": [
    {
     "name": "stdout",
     "output_type": "stream",
     "text": [
      "<re.Match object; span=(0, 7), match='xxMySql'>\n",
      "<re.Match object; span=(0, 7), match='xxMySql'>\n"
     ]
    }
   ],
   "source": [
    "pattern = \"\\w+[Ss][Qq][Ll]\"\n",
    "strs = \"xxMySql\"\n",
    "print(re.search(pattern,strs))\n",
    "\n",
    "#OR\n",
    "pattern = \"\\w+sql\"\n",
    "strs = \"xxMySql\"\n",
    "print(re.search(pattern,strs,flags = re.I))\n"
   ]
  },
  {
   "cell_type": "code",
   "execution_count": 69,
   "id": "47cca66e",
   "metadata": {},
   "outputs": [
    {
     "name": "stdout",
     "output_type": "stream",
     "text": [
      "<re.Match object; span=(0, 7), match='6000000'>\n"
     ]
    }
   ],
   "source": [
    "pattern = \"[1-9]0{3,}\\.?0*$\" #OR \"0{3}\\.?0*$\"\n",
    "st = \"6000000.\"\n",
    "print(re.search(pattern,st))"
   ]
  },
  {
   "cell_type": "code",
   "execution_count": 12,
   "id": "10fc941d",
   "metadata": {},
   "outputs": [
    {
     "name": "stdout",
     "output_type": "stream",
     "text": [
      "<re.Match object; span=(0, 14), match='www.google.com'>\n"
     ]
    }
   ],
   "source": [
    "pattern = r\"\\w*www.(\\w+).\\w{2,3}\\w*\"\n",
    "st = \"https:\\\\www.google.com\\filters\"\n",
    "print(re.search(pattern,st))"
   ]
  },
  {
   "cell_type": "markdown",
   "id": "8c68314d",
   "metadata": {},
   "source": [
    "<h2>Look Arounds:</h2>\n",
    "\n",
    "Positive lookahead: zzz(?=abc) match zzz only when it is followed by abc<br>\n",
    "Negative lookahead: zzz(?!abc) match zzz only when it is not followed by abc<br>\n",
    "Positive Behind: (?<=abc)zzz match zzz only when it is preceded by abc<br>\n",
    "Negative behind: (?<!abc)zzz match zzz only when it is not preceded by abc\n"
   ]
  },
  {
   "cell_type": "code",
   "execution_count": 43,
   "id": "abc03a78",
   "metadata": {},
   "outputs": [
    {
     "name": "stdout",
     "output_type": "stream",
     "text": [
      "<re.Match object; span=(8, 9), match='C'>\n"
     ]
    }
   ],
   "source": [
    "i = \"The new C Stanadard are worth it\"\n",
    "pattern = r\"(?<!Series )\\b[Cc]\\b(?![\\+#\\.])\"\n",
    "print(re.search(pattern,i))"
   ]
  },
  {
   "cell_type": "code",
   "execution_count": 44,
   "id": "ff1da062",
   "metadata": {},
   "outputs": [],
   "source": [
    "# \"Bang Bang\" \"Tuk Tuk\" \"Hammad Hammad\""
   ]
  },
  {
   "cell_type": "code",
   "execution_count": 60,
   "id": "ce18bdd9",
   "metadata": {},
   "outputs": [],
   "source": [
    "pattern = r\"\\b(\\w+)\\s(\\w+)\\s\\2\\s\\1\\b\" "
   ]
  },
  {
   "cell_type": "code",
   "execution_count": 67,
   "id": "4797ab74",
   "metadata": {},
   "outputs": [],
   "source": [
    "s = \"Problem OK OK Problem\""
   ]
  },
  {
   "cell_type": "code",
   "execution_count": 68,
   "id": "5f36a575",
   "metadata": {},
   "outputs": [
    {
     "name": "stdout",
     "output_type": "stream",
     "text": [
      "<re.Match object; span=(0, 21), match='Problem OK OK Problem'>\n"
     ]
    }
   ],
   "source": [
    "print(re.search(pattern,s))"
   ]
  },
  {
   "cell_type": "code",
   "execution_count": 87,
   "id": "729437d3",
   "metadata": {},
   "outputs": [
    {
     "name": "stdout",
     "output_type": "stream",
     "text": [
      "<re.Match object; span=(0, 5), match='email'>\n"
     ]
    }
   ],
   "source": [
    "s = \"email\"\n",
    "\n",
    "pattern = r\"(e[-\\s]?mail)\"\n",
    "\n",
    "print(re.search(pattern,s))"
   ]
  },
  {
   "cell_type": "code",
   "execution_count": 99,
   "id": "321c6dac",
   "metadata": {},
   "outputs": [
    {
     "data": {
      "text/plain": [
       "email     75\n",
       "Email     57\n",
       "e Mail     5\n",
       "e-mail     5\n",
       "e mail     4\n",
       "E-mail     2\n",
       "E-Mail     1\n",
       "EMAIL      1\n",
       "eMail      1\n",
       "dtype: int64"
      ]
     },
     "execution_count": 99,
     "metadata": {},
     "output_type": "execute_result"
    }
   ],
   "source": [
    "title.str.extract(pattern,flags=re.I).value_counts()"
   ]
  },
  {
   "cell_type": "code",
   "execution_count": 100,
   "id": "02e88406",
   "metadata": {},
   "outputs": [
    {
     "name": "stderr",
     "output_type": "stream",
     "text": [
      "/tmp/ipykernel_5040/3782361437.py:1: FutureWarning: The default value of regex will change from True to False in a future version.\n",
      "  title.str.replace(pattern,\"email\")\n"
     ]
    },
    {
     "data": {
      "text/plain": [
       "0                                Interactive Dynamic Video\n",
       "1        Florida DJs May Face Felony for April Fools' W...\n",
       "2             Technology ventures: From Idea to Enterprise\n",
       "3        Note by Note: The Making of Steinway L1037 (2007)\n",
       "4        Title II kills investment? Comcast and other I...\n",
       "                               ...                        \n",
       "20094    How Purism Avoids Intels Active Management Tec...\n",
       "20095            YC Application Translated and Broken Down\n",
       "20096    Microkernels are slow and Elvis didn't do no d...\n",
       "20097                        How Product Hunt really works\n",
       "20098    RoboBrowser: Your friendly neighborhood web sc...\n",
       "Name: title, Length: 20099, dtype: object"
      ]
     },
     "execution_count": 100,
     "metadata": {},
     "output_type": "execute_result"
    }
   ],
   "source": [
    "title.str.replace(pattern,\"email\")"
   ]
  },
  {
   "cell_type": "code",
   "execution_count": 101,
   "id": "e1dca6cb",
   "metadata": {},
   "outputs": [],
   "source": [
    "urls = ds[\"url\"]"
   ]
  },
  {
   "cell_type": "code",
   "execution_count": 102,
   "id": "36596865",
   "metadata": {},
   "outputs": [
    {
     "data": {
      "text/plain": [
       "0                  http://www.interactivedynamicvideo.com/\n",
       "1        http://www.thewire.com/entertainment/2013/04/f...\n",
       "2        https://www.amazon.com/Technology-Ventures-Ent...\n",
       "3        http://www.nytimes.com/2007/11/07/movies/07ste...\n",
       "4        http://arstechnica.com/business/2015/10/comcas...\n",
       "                               ...                        \n",
       "20094    https://puri.sm/philosophy/how-purism-avoids-i...\n",
       "20095    https://medium.com/@zreitano/the-yc-applicatio...\n",
       "20096    http://blog.darknedgy.net/technology/2016/01/0...\n",
       "20097    https://medium.com/@benjiwheeler/how-product-h...\n",
       "20098                https://github.com/jmcarp/robobrowser\n",
       "Name: url, Length: 20099, dtype: object"
      ]
     },
     "execution_count": 102,
     "metadata": {},
     "output_type": "execute_result"
    }
   ],
   "source": [
    "urls"
   ]
  },
  {
   "cell_type": "code",
   "execution_count": 105,
   "id": "862b6b01",
   "metadata": {},
   "outputs": [
    {
     "data": {
      "text/html": [
       "<div>\n",
       "<style scoped>\n",
       "    .dataframe tbody tr th:only-of-type {\n",
       "        vertical-align: middle;\n",
       "    }\n",
       "\n",
       "    .dataframe tbody tr th {\n",
       "        vertical-align: top;\n",
       "    }\n",
       "\n",
       "    .dataframe thead th {\n",
       "        text-align: right;\n",
       "    }\n",
       "</style>\n",
       "<table border=\"1\" class=\"dataframe\">\n",
       "  <thead>\n",
       "    <tr style=\"text-align: right;\">\n",
       "      <th></th>\n",
       "      <th>Protocol</th>\n",
       "      <th>Domain</th>\n",
       "      <th>Page</th>\n",
       "    </tr>\n",
       "  </thead>\n",
       "  <tbody>\n",
       "    <tr>\n",
       "      <th>0</th>\n",
       "      <td>http</td>\n",
       "      <td>www.interactivedynamicvideo.com</td>\n",
       "      <td></td>\n",
       "    </tr>\n",
       "    <tr>\n",
       "      <th>1</th>\n",
       "      <td>http</td>\n",
       "      <td>www.thewire.com</td>\n",
       "      <td>entertainment</td>\n",
       "    </tr>\n",
       "    <tr>\n",
       "      <th>2</th>\n",
       "      <td>https</td>\n",
       "      <td>www.amazon.com</td>\n",
       "      <td>Technology</td>\n",
       "    </tr>\n",
       "    <tr>\n",
       "      <th>3</th>\n",
       "      <td>http</td>\n",
       "      <td>www.nytimes.com</td>\n",
       "      <td>2007</td>\n",
       "    </tr>\n",
       "    <tr>\n",
       "      <th>4</th>\n",
       "      <td>http</td>\n",
       "      <td>arstechnica.com</td>\n",
       "      <td>business</td>\n",
       "    </tr>\n",
       "    <tr>\n",
       "      <th>...</th>\n",
       "      <td>...</td>\n",
       "      <td>...</td>\n",
       "      <td>...</td>\n",
       "    </tr>\n",
       "    <tr>\n",
       "      <th>20094</th>\n",
       "      <td>https</td>\n",
       "      <td>puri.sm</td>\n",
       "      <td>philosophy</td>\n",
       "    </tr>\n",
       "    <tr>\n",
       "      <th>20095</th>\n",
       "      <td>https</td>\n",
       "      <td>medium.com</td>\n",
       "      <td></td>\n",
       "    </tr>\n",
       "    <tr>\n",
       "      <th>20096</th>\n",
       "      <td>http</td>\n",
       "      <td>blog.darknedgy.net</td>\n",
       "      <td>technology</td>\n",
       "    </tr>\n",
       "    <tr>\n",
       "      <th>20097</th>\n",
       "      <td>https</td>\n",
       "      <td>medium.com</td>\n",
       "      <td></td>\n",
       "    </tr>\n",
       "    <tr>\n",
       "      <th>20098</th>\n",
       "      <td>https</td>\n",
       "      <td>github.com</td>\n",
       "      <td>jmcarp</td>\n",
       "    </tr>\n",
       "  </tbody>\n",
       "</table>\n",
       "<p>20099 rows × 3 columns</p>\n",
       "</div>"
      ],
      "text/plain": [
       "      Protocol                           Domain           Page\n",
       "0         http  www.interactivedynamicvideo.com               \n",
       "1         http                  www.thewire.com  entertainment\n",
       "2        https                   www.amazon.com     Technology\n",
       "3         http                  www.nytimes.com           2007\n",
       "4         http                  arstechnica.com       business\n",
       "...        ...                              ...            ...\n",
       "20094    https                          puri.sm     philosophy\n",
       "20095    https                       medium.com               \n",
       "20096     http               blog.darknedgy.net     technology\n",
       "20097    https                       medium.com               \n",
       "20098    https                       github.com         jmcarp\n",
       "\n",
       "[20099 rows x 3 columns]"
      ]
     },
     "execution_count": 105,
     "metadata": {},
     "output_type": "execute_result"
    }
   ],
   "source": [
    "patterns = \"(?P<Protocol>\\w+)://(?P<Domain>[\\w.]+)/?(?P<Page>[\\w.]*)\"\n",
    "urls.str.extract(patterns,flags = re.I)\n",
    "url."
   ]
  },
  {
   "cell_type": "code",
   "execution_count": null,
   "id": "5eab6b5b",
   "metadata": {},
   "outputs": [],
   "source": []
  }
 ],
 "metadata": {
  "kernelspec": {
   "display_name": "Python 3 (ipykernel)",
   "language": "python",
   "name": "python3"
  },
  "language_info": {
   "codemirror_mode": {
    "name": "ipython",
    "version": 3
   },
   "file_extension": ".py",
   "mimetype": "text/x-python",
   "name": "python",
   "nbconvert_exporter": "python",
   "pygments_lexer": "ipython3",
   "version": "3.9.7"
  }
 },
 "nbformat": 4,
 "nbformat_minor": 5
}
