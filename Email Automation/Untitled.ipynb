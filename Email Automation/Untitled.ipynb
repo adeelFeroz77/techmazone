{
 "cells": [
  {
   "cell_type": "code",
   "execution_count": 1,
   "id": "053b6c24",
   "metadata": {},
   "outputs": [],
   "source": [
    "from string import Template\n",
    "import random\n",
    "\n",
    "import pandas as pd\n",
    "import numpy as np\n",
    "\n",
    "from email.mime.multipart import MIMEMultipart   # Multipurpose Internet Mail Extensions\n",
    "from email.mime.text import MIMEText \n",
    "import smtplib\n",
    "from email.mime.application import MIMEApplication\n",
    "\n",
    "import PyPDF2 as pdf\n",
    "\n",
    "from glob import glob"
   ]
  },
  {
   "cell_type": "code",
   "execution_count": 3,
   "id": "0c78a677",
   "metadata": {},
   "outputs": [
    {
     "data": {
      "text/plain": [
       "['pdf/pdf_3.pdf', 'pdf/pdf_4.pdf', 'pdf/pdf_1.pdf', 'pdf/pdf_2.pdf']"
      ]
     },
     "execution_count": 3,
     "metadata": {},
     "output_type": "execute_result"
    }
   ],
   "source": [
    "pdfs = glob(\"pdf/*.pdf\")\n",
    "pdfs"
   ]
  },
  {
   "cell_type": "code",
   "execution_count": 7,
   "id": "7d190296",
   "metadata": {},
   "outputs": [
    {
     "data": {
      "text/plain": [
       "'ashfu'"
      ]
     },
     "execution_count": 7,
     "metadata": {},
     "output_type": "execute_result"
    }
   ],
   "source": [
    "s = \"ashfuiqwhfisanfiuashfiuw\"\n",
    "s[:5]"
   ]
  },
  {
   "cell_type": "code",
   "execution_count": null,
   "id": "72ea088c",
   "metadata": {},
   "outputs": [],
   "source": []
  }
 ],
 "metadata": {
  "kernelspec": {
   "display_name": "Python 3 (ipykernel)",
   "language": "python",
   "name": "python3"
  },
  "language_info": {
   "codemirror_mode": {
    "name": "ipython",
    "version": 3
   },
   "file_extension": ".py",
   "mimetype": "text/x-python",
   "name": "python",
   "nbconvert_exporter": "python",
   "pygments_lexer": "ipython3",
   "version": "3.9.7"
  }
 },
 "nbformat": 4,
 "nbformat_minor": 5
}
