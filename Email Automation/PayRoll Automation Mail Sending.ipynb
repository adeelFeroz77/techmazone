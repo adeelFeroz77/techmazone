{
 "cells": [
  {
   "cell_type": "code",
   "execution_count": 1,
   "id": "18beca8d",
   "metadata": {},
   "outputs": [],
   "source": [
    "from string import Template\n",
    "import random\n",
    "\n",
    "import pandas as pd\n",
    "import numpy as np\n",
    "\n",
    "from email.mime.multipart import MIMEMultipart   # Multipurpose Internet Mail Extensions\n",
    "from email.mime.text import MIMEText \n",
    "import smtplib\n",
    "from email.mime.application import MIMEApplication\n",
    "\n",
    "import PyPDF2 as pdf\n",
    "\n",
    "from glob import glob"
   ]
  },
  {
   "cell_type": "code",
   "execution_count": 2,
   "id": "15de565b",
   "metadata": {},
   "outputs": [],
   "source": [
    "# !pip install PyPDF2"
   ]
  },
  {
   "cell_type": "code",
   "execution_count": 3,
   "id": "4e912b59",
   "metadata": {},
   "outputs": [
    {
     "data": {
      "text/plain": [
       "['pdf\\\\pdf_1.pdf', 'pdf\\\\pdf_2.pdf', 'pdf\\\\pdf_3.pdf', 'pdf\\\\pdf_4.pdf']"
      ]
     },
     "execution_count": 3,
     "metadata": {},
     "output_type": "execute_result"
    }
   ],
   "source": [
    "pdfs = glob(\"pdf/*.pdf\")\n",
    "pdfs"
   ]
  },
  {
   "cell_type": "code",
   "execution_count": 4,
   "id": "5f48825b",
   "metadata": {},
   "outputs": [
    {
     "name": "stdout",
     "output_type": "stream",
     "text": [
      "Employee Name: ${user}\n",
      "Employee ID: ${id}\n",
      "Month: April\n",
      "\n",
      "Lorem Ipsum is simply dummy text of the printing and typesetting industry. Lorem Ipsum has been the industry's standard dummy text ever since the 1500s, when an unknown printer took a galley of type and scrambled it to make a type specimen book. It has survived not only five centuries, but also the leap into electronic typesetting, remaining essentially unchanged. It was popularised in the 1960s with the release of Letraset sheets containing Lorem Ipsum passages, and more recently with desktop publishing software like Aldus PageMaker including versions of Lorem Ipsum.\n",
      "\n",
      "TechmaZone (Pvt) Ltd\n",
      "www.techmazone.com\n"
     ]
    }
   ],
   "source": [
    "emp_temp = open(\"Email Temp\\\\Emal Template.txt\", \"r\").read()\n",
    "print(emp_temp)"
   ]
  },
  {
   "cell_type": "code",
   "execution_count": 5,
   "id": "bcf8ca82",
   "metadata": {},
   "outputs": [
    {
     "data": {
      "text/html": [
       "<div>\n",
       "<style scoped>\n",
       "    .dataframe tbody tr th:only-of-type {\n",
       "        vertical-align: middle;\n",
       "    }\n",
       "\n",
       "    .dataframe tbody tr th {\n",
       "        vertical-align: top;\n",
       "    }\n",
       "\n",
       "    .dataframe thead th {\n",
       "        text-align: right;\n",
       "    }\n",
       "</style>\n",
       "<table border=\"1\" class=\"dataframe\">\n",
       "  <thead>\n",
       "    <tr style=\"text-align: right;\">\n",
       "      <th></th>\n",
       "      <th>Employee ID</th>\n",
       "      <th>Name</th>\n",
       "      <th>Email</th>\n",
       "    </tr>\n",
       "  </thead>\n",
       "  <tbody>\n",
       "    <tr>\n",
       "      <th>0</th>\n",
       "      <td>0001</td>\n",
       "      <td>Asif Raza</td>\n",
       "      <td>asifraza.sid@gmail.com</td>\n",
       "    </tr>\n",
       "    <tr>\n",
       "      <th>1</th>\n",
       "      <td>0002</td>\n",
       "      <td>Fasih Shaikh</td>\n",
       "      <td>fasihshaikh90@gmail.com</td>\n",
       "    </tr>\n",
       "    <tr>\n",
       "      <th>2</th>\n",
       "      <td>0003</td>\n",
       "      <td>Adil Feroz</td>\n",
       "      <td>adil.feroz.7@gmail.com</td>\n",
       "    </tr>\n",
       "    <tr>\n",
       "      <th>3</th>\n",
       "      <td>0004</td>\n",
       "      <td>Danial Gauhar</td>\n",
       "      <td>crdani197@gmail.com</td>\n",
       "    </tr>\n",
       "  </tbody>\n",
       "</table>\n",
       "</div>"
      ],
      "text/plain": [
       "  Employee ID           Name                    Email\n",
       "0        0001      Asif Raza   asifraza.sid@gmail.com\n",
       "1        0002   Fasih Shaikh  fasihshaikh90@gmail.com\n",
       "2        0003     Adil Feroz   adil.feroz.7@gmail.com\n",
       "3        0004  Danial Gauhar      crdani197@gmail.com"
      ]
     },
     "execution_count": 5,
     "metadata": {},
     "output_type": "execute_result"
    }
   ],
   "source": [
    "emp_data = pd.read_excel(\"Employees Data/Employees_Data.xlsx\", dtype = str)\n",
    "emp_data"
   ]
  },
  {
   "cell_type": "code",
   "execution_count": 6,
   "id": "a0cee6d8",
   "metadata": {},
   "outputs": [],
   "source": [
    "user_input = \"crdani97@gmail.com\"\n",
    "user_password = \"dzfguueeqeyhjeuf\""
   ]
  },
  {
   "cell_type": "code",
   "execution_count": 7,
   "id": "57197064",
   "metadata": {},
   "outputs": [
    {
     "data": {
      "text/plain": [
       "(235, b'2.7.0 Accepted')"
      ]
     },
     "execution_count": 7,
     "metadata": {},
     "output_type": "execute_result"
    }
   ],
   "source": [
    "s = smtplib.SMTP(\"smtp.gmail.com\", 587) \n",
    "s.starttls()\n",
    "s.login(user_input,user_password)"
   ]
  },
  {
   "cell_type": "code",
   "execution_count": 8,
   "id": "05883ea2",
   "metadata": {},
   "outputs": [
    {
     "name": "stdout",
     "output_type": "stream",
     "text": [
      "Employee Name: ${user}\n",
      "Employee ID: ${id}\n",
      "Month: April\n",
      "\n",
      "Lorem Ipsum is simply dummy text of the printing and typesetting industry. Lorem Ipsum has been the industry's standard dummy text ever since the 1500s, when an unknown printer took a galley of type and scrambled it to make a type specimen book. It has survived not only five centuries, but also the leap into electronic typesetting, remaining essentially unchanged. It was popularised in the 1960s with the release of Letraset sheets containing Lorem Ipsum passages, and more recently with desktop publishing software like Aldus PageMaker including versions of Lorem Ipsum.\n",
      "\n",
      "TechmaZone (Pvt) Ltd\n",
      "www.techmazone.com\n"
     ]
    }
   ],
   "source": [
    "print(emp_temp)"
   ]
  },
  {
   "cell_type": "code",
   "execution_count": 9,
   "id": "bcff6f9a",
   "metadata": {},
   "outputs": [],
   "source": [
    "emp_temp = Template(emp_temp)"
   ]
  },
  {
   "cell_type": "code",
   "execution_count": 10,
   "id": "91e762f1",
   "metadata": {},
   "outputs": [
    {
     "name": "stdout",
     "output_type": "stream",
     "text": [
      "Employee Name: Fareed\n",
      "Employee ID: 101\n",
      "Month: April\n",
      "\n",
      "Lorem Ipsum is simply dummy text of the printing and typesetting industry. Lorem Ipsum has been the industry's standard dummy text ever since the 1500s, when an unknown printer took a galley of type and scrambled it to make a type specimen book. It has survived not only five centuries, but also the leap into electronic typesetting, remaining essentially unchanged. It was popularised in the 1960s with the release of Letraset sheets containing Lorem Ipsum passages, and more recently with desktop publishing software like Aldus PageMaker including versions of Lorem Ipsum.\n",
      "\n",
      "TechmaZone (Pvt) Ltd\n",
      "www.techmazone.com\n"
     ]
    }
   ],
   "source": [
    "print(emp_temp.substitute(user = \"Fareed\", id = \"101\"))"
   ]
  },
  {
   "cell_type": "code",
   "execution_count": 11,
   "id": "2fc2b8d2",
   "metadata": {},
   "outputs": [
    {
     "data": {
      "text/plain": [
       "['PageRange',\n",
       " 'PdfFileMerger',\n",
       " 'PdfFileReader',\n",
       " 'PdfFileWriter',\n",
       " '__all__',\n",
       " '__builtins__',\n",
       " '__cached__',\n",
       " '__doc__',\n",
       " '__file__',\n",
       " '__loader__',\n",
       " '__name__',\n",
       " '__package__',\n",
       " '__path__',\n",
       " '__spec__',\n",
       " '__version__',\n",
       " '_version',\n",
       " 'filters',\n",
       " 'generic',\n",
       " 'merger',\n",
       " 'pagerange',\n",
       " 'parse_filename_page_ranges',\n",
       " 'pdf',\n",
       " 'utils']"
      ]
     },
     "execution_count": 11,
     "metadata": {},
     "output_type": "execute_result"
    }
   ],
   "source": [
    "dir(pdf)"
   ]
  },
  {
   "cell_type": "code",
   "execution_count": 12,
   "id": "920782c1",
   "metadata": {},
   "outputs": [
    {
     "data": {
      "text/plain": [
       "'0002'"
      ]
     },
     "execution_count": 12,
     "metadata": {},
     "output_type": "execute_result"
    }
   ],
   "source": [
    "pdf.PdfFileReader(\"pdf\\pdf_2.pdf\").getPage(0).extractText()[:4]"
   ]
  },
  {
   "cell_type": "code",
   "execution_count": 15,
   "id": "9310c4ab",
   "metadata": {},
   "outputs": [
    {
     "name": "stdout",
     "output_type": "stream",
     "text": [
      "Employee Name: Asif Raza\n",
      "Employee ID: 0001\n",
      "Month: April\n",
      "\n",
      "Lorem Ipsum is simply dummy text of the printing and typesetting industry. Lorem Ipsum has been the industry's standard dummy text ever since the 1500s, when an unknown printer took a galley of type and scrambled it to make a type specimen book. It has survived not only five centuries, but also the leap into electronic typesetting, remaining essentially unchanged. It was popularised in the 1960s with the release of Letraset sheets containing Lorem Ipsum passages, and more recently with desktop publishing software like Aldus PageMaker including versions of Lorem Ipsum.\n",
      "\n",
      "TechmaZone (Pvt) Ltd\n",
      "www.techmazone.com\n",
      "********************************************************************************\n",
      "Employee Name: Fasih Shaikh\n",
      "Employee ID: 0002\n",
      "Month: April\n",
      "\n",
      "Lorem Ipsum is simply dummy text of the printing and typesetting industry. Lorem Ipsum has been the industry's standard dummy text ever since the 1500s, when an unknown printer took a galley of type and scrambled it to make a type specimen book. It has survived not only five centuries, but also the leap into electronic typesetting, remaining essentially unchanged. It was popularised in the 1960s with the release of Letraset sheets containing Lorem Ipsum passages, and more recently with desktop publishing software like Aldus PageMaker including versions of Lorem Ipsum.\n",
      "\n",
      "TechmaZone (Pvt) Ltd\n",
      "www.techmazone.com\n",
      "********************************************************************************\n",
      "Employee Name: Adil Feroz\n",
      "Employee ID: 0003\n",
      "Month: April\n",
      "\n",
      "Lorem Ipsum is simply dummy text of the printing and typesetting industry. Lorem Ipsum has been the industry's standard dummy text ever since the 1500s, when an unknown printer took a galley of type and scrambled it to make a type specimen book. It has survived not only five centuries, but also the leap into electronic typesetting, remaining essentially unchanged. It was popularised in the 1960s with the release of Letraset sheets containing Lorem Ipsum passages, and more recently with desktop publishing software like Aldus PageMaker including versions of Lorem Ipsum.\n",
      "\n",
      "TechmaZone (Pvt) Ltd\n",
      "www.techmazone.com\n",
      "********************************************************************************\n",
      "Employee Name: Danial Gauhar\n",
      "Employee ID: 0004\n",
      "Month: April\n",
      "\n",
      "Lorem Ipsum is simply dummy text of the printing and typesetting industry. Lorem Ipsum has been the industry's standard dummy text ever since the 1500s, when an unknown printer took a galley of type and scrambled it to make a type specimen book. It has survived not only five centuries, but also the leap into electronic typesetting, remaining essentially unchanged. It was popularised in the 1960s with the release of Letraset sheets containing Lorem Ipsum passages, and more recently with desktop publishing software like Aldus PageMaker including versions of Lorem Ipsum.\n",
      "\n",
      "TechmaZone (Pvt) Ltd\n",
      "www.techmazone.com\n",
      "********************************************************************************\n"
     ]
    }
   ],
   "source": [
    "for i in pdfs:\n",
    "    employee_code = pdf.PdfFileReader(i).getPage(0).extractText()[:4]\n",
    "    employee_id, employee_name, employee_mail = emp_data[emp_data[\"Employee ID\"] == employee_code].values[0]\n",
    "    message = emp_temp.substitute(user = employee_name, id = employee_id)\n",
    "    mp = MIMEMultipart()\n",
    "    mp[\"From\"] = user_input\n",
    "    mp[\"To\"] = employee_mail\n",
    "    mp[\"Subject\"] = \"PayRoll\"\n",
    "    mp.attach(MIMEText(message,\"plain\"))\n",
    "    f = open(i,\"rb\")\n",
    "    payroll_attach = MIMEApplication(f.read(),_subtype=\"pdf\")\n",
    "    payroll_attach.add_header(\"Content-Disposition\",\"attachment\",filename=f\"{employee_name} PayRoll.pdf\")\n",
    "    mp.attach(payroll_attach)\n",
    "    s.send_message(mp)\n",
    "    print(message)\n",
    "    print(\"*\"*80)  "
   ]
  },
  {
   "cell_type": "code",
   "execution_count": 14,
   "id": "647b308a",
   "metadata": {},
   "outputs": [
    {
     "data": {
      "text/html": [
       "<div>\n",
       "<style scoped>\n",
       "    .dataframe tbody tr th:only-of-type {\n",
       "        vertical-align: middle;\n",
       "    }\n",
       "\n",
       "    .dataframe tbody tr th {\n",
       "        vertical-align: top;\n",
       "    }\n",
       "\n",
       "    .dataframe thead th {\n",
       "        text-align: right;\n",
       "    }\n",
       "</style>\n",
       "<table border=\"1\" class=\"dataframe\">\n",
       "  <thead>\n",
       "    <tr style=\"text-align: right;\">\n",
       "      <th></th>\n",
       "      <th>Employee ID</th>\n",
       "      <th>Name</th>\n",
       "      <th>Email</th>\n",
       "    </tr>\n",
       "  </thead>\n",
       "  <tbody>\n",
       "    <tr>\n",
       "      <th>0</th>\n",
       "      <td>0001</td>\n",
       "      <td>Asif Raza</td>\n",
       "      <td>asifraza.sid@gmail.com</td>\n",
       "    </tr>\n",
       "    <tr>\n",
       "      <th>1</th>\n",
       "      <td>0002</td>\n",
       "      <td>Fasih Shaikh</td>\n",
       "      <td>fasihshaikh90@gmail.com</td>\n",
       "    </tr>\n",
       "    <tr>\n",
       "      <th>2</th>\n",
       "      <td>0003</td>\n",
       "      <td>Adil Feroz</td>\n",
       "      <td>adil.feroz.7@gmail.com</td>\n",
       "    </tr>\n",
       "    <tr>\n",
       "      <th>3</th>\n",
       "      <td>0004</td>\n",
       "      <td>Danial Gauhar</td>\n",
       "      <td>crdani197@gmail.com</td>\n",
       "    </tr>\n",
       "  </tbody>\n",
       "</table>\n",
       "</div>"
      ],
      "text/plain": [
       "  Employee ID           Name                    Email\n",
       "0        0001      Asif Raza   asifraza.sid@gmail.com\n",
       "1        0002   Fasih Shaikh  fasihshaikh90@gmail.com\n",
       "2        0003     Adil Feroz   adil.feroz.7@gmail.com\n",
       "3        0004  Danial Gauhar      crdani197@gmail.com"
      ]
     },
     "execution_count": 14,
     "metadata": {},
     "output_type": "execute_result"
    }
   ],
   "source": [
    "emp_data"
   ]
  },
  {
   "cell_type": "code",
   "execution_count": 16,
   "id": "2a9aa3a2",
   "metadata": {},
   "outputs": [
    {
     "data": {
      "text/plain": [
       "(221,\n",
       " b'2.0.0 closing connection q14-20020a1cf30e000000b0038986a18ec8sm12513048wmq.46 - gsmtp')"
      ]
     },
     "execution_count": 16,
     "metadata": {},
     "output_type": "execute_result"
    }
   ],
   "source": [
    "s.quit()"
   ]
  },
  {
   "cell_type": "code",
   "execution_count": null,
   "id": "93b02aec",
   "metadata": {},
   "outputs": [],
   "source": []
  }
 ],
 "metadata": {
  "kernelspec": {
   "display_name": "Python 3",
   "language": "python",
   "name": "python3"
  },
  "language_info": {
   "codemirror_mode": {
    "name": "ipython",
    "version": 3
   },
   "file_extension": ".py",
   "mimetype": "text/x-python",
   "name": "python",
   "nbconvert_exporter": "python",
   "pygments_lexer": "ipython3",
   "version": "3.8.8"
  }
 },
 "nbformat": 4,
 "nbformat_minor": 5
}
